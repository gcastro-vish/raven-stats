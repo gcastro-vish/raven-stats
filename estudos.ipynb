{
 "cells": [
  {
   "cell_type": "markdown",
   "metadata": {},
   "source": [
    "# Calculadora de tradepacks"
   ]
  },
  {
   "cell_type": "markdown",
   "metadata": {},
   "source": [
    "## Imports"
   ]
  },
  {
   "cell_type": "code",
   "execution_count": 1,
   "metadata": {},
   "outputs": [
    {
     "name": "stderr",
     "output_type": "stream",
     "text": [
      "C:\\Users\\bicas\\AppData\\Local\\Temp\\ipykernel_19080\\1662815981.py:2: DeprecationWarning: \n",
      "Pyarrow will become a required dependency of pandas in the next major release of pandas (pandas 3.0),\n",
      "(to allow more performant data types, such as the Arrow string type, and better interoperability with other libraries)\n",
      "but was not found to be installed on your system.\n",
      "If this would cause problems for you,\n",
      "please provide us feedback at https://github.com/pandas-dev/pandas/issues/54466\n",
      "        \n",
      "  import pandas as pd\n"
     ]
    }
   ],
   "source": [
    "import numpy as np\n",
    "import pandas as pd"
   ]
  },
  {
   "cell_type": "markdown",
   "metadata": {},
   "source": [
    "## Parâmetros"
   ]
  },
  {
   "cell_type": "code",
   "execution_count": 2,
   "metadata": {},
   "outputs": [],
   "source": [
    "tiles = {'Seabeeze - Orca Bay': 713,\n",
    "         'Seabreeze - Margrove': 943,\n",
    "         'Seabreeze - Tarmire': 1011,\n",
    "         'Seabreeze - Ravencrest': 1115,\n",
    "         'Seabreeze - Riverend': 1528,\n",
    "         'Seabreeze - Darzuac': 1687,\n",
    "         'Seabreeze - Defiance': 1888,\n",
    "         'Ravencrest - Margrove': 233,\n",
    "         'Ravencrest - Tarmire': 392,\n",
    "         'Ravencrest - Orca Bay': 402,\n",
    "         'Ravencrest - Riverend': 412,\n",
    "         'Ravencrest - Darzuac': 577,\n",
    "         'Ravencrest - Defiance': 773,\n",
    "         'Margrove - Orca Bay': 437,\n",
    "         'Margrove - Riverend': 584,\n",
    "         'Margrove - Tarmire': 626,\n",
    "         'Margrove - Darzuac': 811,\n",
    "         'Margrove - Defiance': 945,\n",
    "         'Gilead - Riverend': 1133,\n",
    "         'Gilead - Margrove': 978,\n",
    "         'Gilead - Orca Bay': 542,\n",
    "         'Gilead - Seabreeze': 699,\n",
    "         'Gilead - Tarmire': 617,\n",
    "         'Gilead - Darzuac': 1207,\n",
    "         'Gilead - Ravencrest': 745,\n",
    "         'Gilead - Defiance': 1494,\n",
    "         'Orca Bay - Riverend': 814,\n",
    "         'Orca Bay - Tarmire': 298,\n",
    "         'Orca Bay - Darzuac': 888,\n",
    "         'Orca Bay - Defiance': 1175}\n",
    "\n",
    "tradepacks = {'Glaceforde Explorers Kit': {'Wool':10,'Small Log':30,'Coal':40},\n",
    "              'Campfire Roast': {'Small Log':22,'Stone':130,'Chicken':8},\n",
    "              'Bakers Basics': {'Milk':15,'Egg':30,'Ground Flour':35},\n",
    "              'Building Materials':{'Stone':100,'Small Log':22,'Hide':10},\n",
    "              'Basic Rations':{'Wheat':15,'Corn':10,'Apple':10},\n",
    "              'Crafting Basics':{'Copper Ore':40,'Hide':10,'Small Log':25},\n",
    "              'Settler\\'s Rations':{'Wheat':30,'Carrot':35,'Corn':10},\n",
    "              'Slums Provisions':{'Cotton':10,'Shank':8,'Potato':80},\n",
    "              'Ravencrest Finest Wears':{'Cotton':8,'Wool':8,'Hide':8},\n",
    "              'Kindling Kit':{'Small Log':38,'Coal':40,'Cotton':10},\n",
    "              'Barbecue Specialty':{'Beef':10,'Chicken':5,'Coal':30,'Honey':6},\n",
    "              'Pickled Vegetables':{'Cabbage':15,'Carrot':50,'Salt':8},\n",
    "              'Dairy Delivery':{'Milk':15,'Cheese':1,'Egg':30},\n",
    "              'Butcher\\'s Box':{'Beef':5,'Chicken':8,'Shank':5,'Cheese':1},\n",
    "              'Strawberry Cakes':{'Honey':10,'Ground Flour':50,'Strawberry':40,'Milk':10},\n",
    "              'Sajecho\\'s Spices':{'Onion':15,'Orange':4,'Salt':5},\n",
    "              'Kabbar\\'s Omelets':{'Egg':30,'Cheese':1,'Pepper':15},\n",
    "              'Brined Shank':{'Shank':10,'Salt':8,'Pepper':10},\n",
    "              'Sailor\\'s Remedy':{'Carrot':20,'Orange':5,'Bean':20},\n",
    "              'Seabreeze Rum':{'Corn':10,'Cabbage':8,'Banana':5,'Blueberry':30},\n",
    "              'Sombreshade\\'s Pie':{'Pumpkin':5,'Milk':10,'Ground Flour':20,'Honey':13},\n",
    "              'Sajecho Fruit Basket':{'Banana':2,'Watermelon':1,'Orange':4,'Grape':10}\n",
    "             }\n",
    "\n",
    "tradepackBaseValue = 9600"
   ]
  },
  {
   "cell_type": "markdown",
   "metadata": {},
   "source": [
    "## Inputs\n",
    "\n",
    "Inputs do usuário obrigatoriamente route, bonus, mat prices, demands"
   ]
  },
  {
   "cell_type": "code",
   "execution_count": 3,
   "metadata": {},
   "outputs": [],
   "source": [
    "materialsPrices = {'Apple': 510,\n",
    "                   'Banana': 1000,\n",
    "                   'Bean': 215,\n",
    "                   'Beef': 20,\n",
    "                   'Blueberry': 125,\n",
    "                   'Cabbage': 320,\n",
    "                   'Carrot': 150,\n",
    "                   'Cheese': 2200,\n",
    "                   'Chicken': 320,\n",
    "                   'Coal': 205,\n",
    "                   'Copper Ore': 65,\n",
    "                   'Corn': 220,\n",
    "                   'Cotton': 320,\n",
    "                   'Egg': 315,\n",
    "                   'Grape': 280,\n",
    "                   'Ground Flour': 95,\n",
    "                   'Hide': 500,\n",
    "                   'Honey': 200,\n",
    "                   'Milk': 350,\n",
    "                   'Onion': 300,\n",
    "                   'Orange': 1400,\n",
    "                   'Pepper': 310,\n",
    "                   'Potato': 150,\n",
    "                   'Pumpkin': 1738,\n",
    "                   'Salt': 180,\n",
    "                   'Shank': 20,\n",
    "                   'Small Log': 160,\n",
    "                   'Stone': 50,\n",
    "                   'Strawberry': 130,\n",
    "                   'Watermelon': 3800,\n",
    "                   'Wheat': 190,\n",
    "                   'Wool': 600}\n",
    "\n",
    "demandsPerCent = {'Aged Meat':126,\n",
    "'Bakers Basics':126,\n",
    "'Barbecue Specialty':85,\n",
    "'Basic Rations':76,\n",
    "'Brined Shank':50,\n",
    "'Building Materials':127,\n",
    "'Butcher\\'s Box':51,\n",
    "'Campfire Roast':114,\n",
    "'Crafting Basics':112,\n",
    "'Dairy Delivery':125,\n",
    "'Fried Chicken':100,\n",
    "'Glaceforde Explorers Kit':126,\n",
    "'Kabbar\\'s Omelets':124,\n",
    "'Kindling Kit':134,\n",
    "'Margrove Ale Ingredients':100,\n",
    "'Pickled Vegetables':120,\n",
    "'Ravencrest Finest Wears':128,\n",
    "'Rohna Smoked Ham':100,\n",
    "'Sailor\\'s Remedy':121,\n",
    "'Sajecho Fruit Basket':121,\n",
    "'Sajecho\\'s Spices':81,\n",
    "'Seabreeze Rum':125,\n",
    "'Settler\\'s Rations':96,\n",
    "'Slums Provisions':91,\n",
    "'Sombreshade\\'s Pie':133,\n",
    "'Strawberry Cakes':126,\n",
    "'Winemakers Kit':100}\n",
    "\n",
    "bonusPerCent = 0\n",
    "tradepack = 'Glaceforde Explorers Kit'\n",
    "route = 'Seabreeze - Ravencrest'\n",
    "demands = {k:v/100 for k,v in demandsPerCent.items()}\n",
    "bonus = bonusPerCent/100"
   ]
  },
  {
   "cell_type": "markdown",
   "metadata": {},
   "source": [
    "## Classes (tratamento de erros)"
   ]
  },
  {
   "cell_type": "code",
   "execution_count": 4,
   "metadata": {},
   "outputs": [],
   "source": [
    "class missingMaterialPrice(Exception):\n",
    "    def __init__(self, e):\n",
    "        self.value = f\"Material '{e.args[0]}' not found. Check materialsPrices dict.\"\n",
    "\n",
    "    def __str__(self):\n",
    "        return repr(self.value)\n",
    "\n",
    "class incorrectMaterialPriceType(Exception):\n",
    "    def __init__(self, mats):\n",
    "        self.value = f\"Materials {mats} prices type must be a number.\"\n",
    "\n",
    "    def __str__(self):\n",
    "        return repr(self.value)\n",
    "    \n",
    "class missingTradepackDemand(Exception):\n",
    "    def __init__(self, trpck):\n",
    "        self.value = f\"Tradepack '{trpck}' not in demands dict.\"\n",
    "\n",
    "    def __str__(self):\n",
    "        return repr(self.value)"
   ]
  },
  {
   "cell_type": "markdown",
   "metadata": {},
   "source": [
    "## Funções"
   ]
  },
  {
   "cell_type": "code",
   "execution_count": 5,
   "metadata": {},
   "outputs": [],
   "source": [
    "def loadExamples(keyError = False, nanPrice = False, nonePrice = False):\n",
    "    mp = {'Coal': 205,\n",
    "          'Cotton': 320,\n",
    "          'Small Log': 160,\n",
    "          'Wool': 600}\n",
    "    \n",
    "    tp = {'Glaceforde Explorers Kit': {'Wool':10,'Small Log':30,'Coal':40},\n",
    "          'Kindling Kit':{'Small Log':38,'Coal':40,'Cotton':10}}\n",
    "\n",
    "    if keyError:\n",
    "        tp = {**tp, 'Ravencrest Finest Wears':{'Cotton':8,'Wool':8,'Hide':8},}\n",
    "\n",
    "    if nanPrice:\n",
    "        mp['Cotton'] = np.nan\n",
    "    \n",
    "    if nonePrice:\n",
    "        mp['Wool'] = None\n",
    "    \n",
    "    return mp, tp\n",
    "\n",
    "def computeTradepackCosts(tradepacks=tradepacks, materialsPrices=materialsPrices):\n",
    "    tradepacksCosts = {}\n",
    "    for t in list(tradepacks.keys()):\n",
    "        try:\n",
    "            tradepacksCosts = {**tradepacksCosts, t:sum([materialsPrices[k]*v for k,v in tradepacks[t].items()])}\n",
    "            assert sum(np.isnan(list(tradepacksCosts.values())))==0, f\"there is a material in {[k for k in tradepacks[t].keys()]} with {np.nan} as price\"\n",
    "        except KeyError as e:\n",
    "            raise missingMaterialPrice(e)\n",
    "        except TypeError as e:\n",
    "            raise incorrectMaterialPriceType([k for k in tradepacks[t].keys()])\n",
    "    return tradepacksCosts\n",
    "\n",
    "def computeTradepackSellPrices(route, tradepacks=tradepacks):\n",
    "    '''\n",
    "    tradepack formula: (tradepackBaseValue + tiles*8)*demand*(1+bonus)\n",
    "    '''\n",
    "    tradepackSellPrices = {}\n",
    "    for t in list(tradepacks.keys()):\n",
    "        try:\n",
    "            tradepackSellPrices = {**tradepackSellPrices, t:int(round((tradepackBaseValue + tiles[route]*8)*demands[t]*(1+bonus),2))}\n",
    "        except KeyError as e:\n",
    "            raise missingTradepackDemand(t)\n",
    "    return tradepackSellPrices"
   ]
  }
 ],
 "metadata": {
  "kernelspec": {
   "display_name": "venv",
   "language": "python",
   "name": "python3"
  },
  "language_info": {
   "codemirror_mode": {
    "name": "ipython",
    "version": 3
   },
   "file_extension": ".py",
   "mimetype": "text/x-python",
   "name": "python",
   "nbconvert_exporter": "python",
   "pygments_lexer": "ipython3",
   "version": "3.10.6"
  }
 },
 "nbformat": 4,
 "nbformat_minor": 2
}
